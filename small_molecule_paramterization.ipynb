{
  "nbformat": 4,
  "nbformat_minor": 0,
  "metadata": {
    "colab": {
      "provenance": []
    },
    "kernelspec": {
      "name": "python3",
      "display_name": "Python 3"
    },
    "language_info": {
      "name": "python"
    }
  },
  "cells": [
    {
      "cell_type": "markdown",
      "source": [
        "**Parameterizing small molecule for gromacs/Amber simulations**"
      ],
      "metadata": {
        "id": "Jcfvle8SRWk-"
      }
    },
    {
      "cell_type": "markdown",
      "source": [
        "first draw your molecule, and minimize it with MM level. Now prepare a .com file using antechamber via the following command"
      ],
      "metadata": {
        "id": "ABMpVwxlRYeE"
      }
    },
    {
      "cell_type": "code",
      "source": [
        "antechamber -i name.pdb -fi pdb -o *.com -fo gcrt"
      ],
      "metadata": {
        "id": "Sm_ecwuKTFpz"
      },
      "execution_count": null,
      "outputs": []
    },
    {
      "cell_type": "markdown",
      "source": [
        "### this will print .com file with title #HF/6-31G* SCF=tight Test Pop=MK iop(6/33=2) iop(6/42=6). Now you need to run guassian program in order to get .log file, which will be used in the next step"
      ],
      "metadata": {
        "id": "O7MrHiGXTXKa"
      }
    },
    {
      "cell_type": "code",
      "source": [
        "antechamber -i *.log -fi gout -o *.mol2 -fo mol2 -c resp\n"
      ],
      "metadata": {
        "id": "KrQhMMYXR3R5"
      },
      "execution_count": null,
      "outputs": []
    },
    {
      "cell_type": "markdown",
      "source": [
        "*#you can calculate resp charges by Using Multiwfn (http://sobereva.com/multiwfn) to calculate RESP charges. The procedure is much easier and the functionality is more powerful than Antechamber, and you do not need to boring with connectivity. Please follow the examples in Section 4.7.7 of Multiwfn manual.*"
      ],
      "metadata": {
        "id": "BKz6XSNQTsLV"
      }
    },
    {
      "cell_type": "code",
      "source": [
        "$tleap\n",
        "Source leaprc.protein.ff14SB\n",
        "Source leaprc.water.opc \n",
        "Source leaprc.protein.ff14SB \n",
        "Source leaprc.water.opc\n",
        "Source leaprc.gaff2\n",
        "ligand = loadmol2 genistein_final.mol2 \n",
        "check ligand\n",
        "loadamberparams genistein_final.mfrcmod\n",
        "saveoff ligand ligand.lib \n",
        "setbox ligand vdw 6\n",
        "#solvatebox ligand TIP3PBOX 10.0\n",
        "saveamberparm ligand ligand.inpcrd ligand.prmptop\n",
        "quit\n"
      ],
      "metadata": {
        "id": "F1Mnjc-OSzzz"
      },
      "execution_count": null,
      "outputs": []
    },
    {
      "cell_type": "markdown",
      "source": [
        "you will get final ligand in water output with the paramters compatible for amber simulation. Note that solvatebox is additional command if you want to add water molecule, however if you just interested ligand parameterization and interested in gromacs topology, you can skip this step."
      ],
      "metadata": {
        "id": "LBN9ciiRSqBX"
      }
    },
    {
      "cell_type": "markdown",
      "source": [
        "In case you want to visualize the output file in .pdb format, you can use following command"
      ],
      "metadata": {
        "id": "2xQlar8yT7jL"
      }
    },
    {
      "cell_type": "code",
      "source": [
        "ambpdb -p ligand.inpcrd -c ligand.prmptop > ligand.pdb"
      ],
      "metadata": {
        "id": "AUFhsgdVUDg1"
      },
      "execution_count": null,
      "outputs": []
    },
    {
      "cell_type": "markdown",
      "source": [
        "gromacs to amber topology can be converted via python module called parmed. make a script.py file via the following input"
      ],
      "metadata": {
        "id": "IRFrcJNzUEbM"
      }
    },
    {
      "cell_type": "code",
      "source": [
        "import parmed as pmd\n",
        "parm = pmd.load_file('ligand.prmptop','ligand.inpcrd')\n",
        "parm.save('ligand.itp',format='gromacs')\n",
        "parm.save('ligand.gro')\n",
        "parm.save('ligand.top') #,format='gromacs')"
      ],
      "metadata": {
        "id": "61CEK7ONUZHV"
      },
      "execution_count": null,
      "outputs": []
    },
    {
      "cell_type": "code",
      "source": [
        "python script.py"
      ],
      "metadata": {
        "id": "Oe8tgo5qUhBw"
      },
      "execution_count": null,
      "outputs": []
    },
    {
      "cell_type": "markdown",
      "source": [
        "You will get gromacs input files and you are good to go with gromacs simulations. In case if want to simulate ligand in water, i am here giving you .mdp files (em.mdp, eq.mdp, run.mdp), sample .top file (system_EMPTY.top), and you just need to execute bash script (prepare_1mol_AA_system.sh), it will simply take care of everything."
      ],
      "metadata": {
        "id": "2vsrbHrfUcTB"
      }
    },
    {
      "cell_type": "markdown",
      "source": [
        "However, if you want to simulate using sander, you can use following command"
      ],
      "metadata": {
        "id": "h6OmO57PU26w"
      }
    },
    {
      "cell_type": "code",
      "source": [
        "sander -O -i 01_Min.in -o 01_Min.out -p ligand.pmptop -c ligand.inpcrd -r 01_Min.ncrst -inf 01_Min.mdinfo"
      ],
      "metadata": {
        "id": "058-5p7PUgXb"
      },
      "execution_count": null,
      "outputs": []
    }
  ]
}