{
  "nbformat": 4,
  "nbformat_minor": 0,
  "metadata": {
    "colab": {
      "provenance": []
    },
    "kernelspec": {
      "name": "python3",
      "display_name": "Python 3"
    },
    "language_info": {
      "name": "python"
    }
  },
  "cells": [
    {
      "cell_type": "markdown",
      "source": [
        "**Parameterizing small molecule for gromacs/Amber simulations**"
      ],
      "metadata": {
        "id": "Jcfvle8SRWk-"
      }
    },
    {
      "cell_type": "markdown",
      "source": [
        "first draw your molecule, and minimize it with MM level. We want to calculate resp charges which will be used for the MD simulation. The gaussian input .com file can be created using antechamber via the following command. This tutorial is modified version of https://ambermd.org/tutorials/basic/tutorial0/"
      ],
      "metadata": {
        "id": "ABMpVwxlRYeE"
      }
    },
    {
      "cell_type": "code",
      "source": [
        "antechamber -i name.pdb -fi pdb -o *.com -fo gcrt"
      ],
      "metadata": {
        "id": "Sm_ecwuKTFpz"
      },
      "execution_count": null,
      "outputs": []
    },
    {
      "cell_type": "markdown",
      "source": [
        "This will print .com file with title #HF/6-31G* SCF=tight Test Pop=MK iop(6/33=2) iop(6/42=6). Now you need to run guassian program in order to get .log file, which will be used in the next step"
      ],
      "metadata": {
        "id": "O7MrHiGXTXKa"
      }
    },
    {
      "cell_type": "code",
      "source": [
        "antechamber -i *.log -fi gout -o *.mol2 -fo mol2 -c resp\n"
      ],
      "metadata": {
        "id": "KrQhMMYXR3R5"
      },
      "execution_count": null,
      "outputs": []
    },
    {
      "cell_type": "markdown",
      "source": [
        "*#you can calculate resp charges by Using Multiwfn (http://sobereva.com/multiwfn) to calculate RESP charges. The procedure is much easier and the functionality is more powerful than Antechamber, and you do not need to boring with connectivity. Please follow the examples in Section 4.7.7 of Multiwfn manual.*"
      ],
      "metadata": {
        "id": "BKz6XSNQTsLV"
      }
    },
    {
      "cell_type": "code",
      "source": [
        "$tleap\n",
        "Source leaprc.protein.ff14SB\n",
        "Source leaprc.water.opc \n",
        "Source leaprc.protein.ff14SB \n",
        "Source leaprc.water.opc\n",
        "Source leaprc.gaff2\n",
        "ligand = loadmol2 genistein_final.mol2 \n",
        "check ligand\n",
        "loadamberparams genistein_final.mfrcmod\n",
        "saveoff ligand ligand.lib \n",
        "setbox ligand vdw 6\n",
        "#solvatebox ligand TIP3PBOX 10.0\n",
        "saveamberparm ligand ligand.inpcrd ligand.prmptop\n",
        "quit\n"
      ],
      "metadata": {
        "id": "F1Mnjc-OSzzz"
      },
      "execution_count": null,
      "outputs": []
    },
    {
      "cell_type": "markdown",
      "source": [
        "you will get final ligand in water output with the paramters compatible for amber simulation. Note that solvatebox is additional command if you want to add water molecule, however if you just interested ligand parameterization and interested in gromacs topology, you can skip this step."
      ],
      "metadata": {
        "id": "LBN9ciiRSqBX"
      }
    },
    {
      "cell_type": "markdown",
      "source": [
        "In case you want to visualize the output file in .pdb format, you can use following command"
      ],
      "metadata": {
        "id": "2xQlar8yT7jL"
      }
    },
    {
      "cell_type": "code",
      "source": [
        "ambpdb -p ligand.inpcrd -c ligand.prmptop > ligand.pdb"
      ],
      "metadata": {
        "id": "AUFhsgdVUDg1"
      },
      "execution_count": null,
      "outputs": []
    },
    {
      "cell_type": "markdown",
      "source": [
        "gromacs to amber topology can be converted via python module called parmed. make a script.py file via the following input"
      ],
      "metadata": {
        "id": "IRFrcJNzUEbM"
      }
    },
    {
      "cell_type": "code",
      "source": [
        "import parmed as pmd\n",
        "parm = pmd.load_file('ligand.prmptop','ligand.inpcrd')\n",
        "parm.save('ligand.itp',format='gromacs')\n",
        "parm.save('ligand.gro')\n",
        "parm.save('ligand.top') #,format='gromacs')"
      ],
      "metadata": {
        "id": "61CEK7ONUZHV"
      },
      "execution_count": null,
      "outputs": []
    },
    {
      "cell_type": "code",
      "source": [
        "python script.py"
      ],
      "metadata": {
        "id": "Oe8tgo5qUhBw"
      },
      "execution_count": null,
      "outputs": []
    },
    {
      "cell_type": "markdown",
      "source": [
        "You will get gromacs input files and you are good to go with gromacs simulations. In case if want to simulate ligand in water, i am here giving you .mdp files [em.mdp](https://github.com/athar91/small_molecule_paramterization/blob/main/em.mdp), [eq.mdp](https://github.com/athar91/small_molecule_paramterization/blob/main/eq.mdp), [run.mdp](https://github.com/athar91/small_molecule_paramterization/blob/main/run.mdp)), sample .top file ( [system_EMPTY.top](https://github.com/athar91/small_molecule_paramterization/blob/main/system_EMPTY.top)), and you just need to execute bash script ( [prepare_1mol_AA_system.sh](https://github.com/athar91/small_molecule_paramterization/blob/main/prepare_1mol_AA_system.sh/)), it will simply take care of everything."
      ],
      "metadata": {
        "id": "2vsrbHrfUcTB"
      }
    },
    {
      "cell_type": "markdown",
      "source": [
        "enter the ligand name in .top file"
      ],
      "metadata": {
        "id": "DBZA5FQygeIR"
      }
    },
    {
      "cell_type": "code",
      "source": [
        "./prepare_1mol_AA_system.sh  ligand.gro  spc216.gro  SOL 3"
      ],
      "metadata": {
        "id": "9slllNMWgFrY"
      },
      "execution_count": null,
      "outputs": []
    },
    {
      "cell_type": "markdown",
      "source": [
        "You might need to apply position restraint on the ligand, if its a complex/dimer/trimer. CHECK THIS http://www.mdtutorials.com/gmx/complex/06_equil.html"
      ],
      "metadata": {
        "id": "vupgFzcj1eNU"
      }
    },
    {
      "cell_type": "code",
      "source": [
        "gmx make_ndx -f ligand.gro -o index_ligand.ndx\n",
        "...\n",
        " > 0 & ! a H*\n",
        " > q"
      ],
      "metadata": {
        "id": "eYZFNxrE2Df7"
      },
      "execution_count": null,
      "outputs": []
    },
    {
      "cell_type": "code",
      "source": [
        "gmx genrestr -f ligand.gro -n index_ligand.ndx -o posre_ligand.itp -fc 1000 1000 1000"
      ],
      "metadata": {
        "id": "DrJI_z3g2Vxk"
      },
      "execution_count": null,
      "outputs": []
    },
    {
      "cell_type": "markdown",
      "source": [
        "edit .top file (include posres) and define posres in .mdp file [define = -DPOSRES -DPOSRES_LIG]"
      ],
      "metadata": {
        "id": "cbGzIdFa2fKB"
      }
    },
    {
      "cell_type": "code",
      "source": [
        "; Ligand position restraints\n",
        "#ifdef POSRES_LIG\n",
        "#include \"posre_ligand.itp\"\n",
        "#endif\n"
      ],
      "metadata": {
        "id": "iEEBfaE8291B"
      },
      "execution_count": null,
      "outputs": []
    },
    {
      "cell_type": "markdown",
      "source": [
        "*However*, if you want to simulate using sander, you can use following command"
      ],
      "metadata": {
        "id": "h6OmO57PU26w"
      }
    },
    {
      "cell_type": "code",
      "source": [
        "sander -O -i 01_Min.in -o 01_Min.out -p ligand.pmptop -c ligand.inpcrd -r 01_Min.ncrst -inf 01_Min.mdinfo"
      ],
      "metadata": {
        "id": "058-5p7PUgXb"
      },
      "execution_count": null,
      "outputs": []
    },
    {
      "cell_type": "markdown",
      "source": [
        "**Note that in case of dimeric complex, you might need to define .itp file separately for the two unit via these steps:**\n",
        "\n",
        "1.  generate a complex.pdb file\n",
        "2.  grep -v MOL complex.pdb > onlycalix.pdb\n",
        "3. grep MOL complex.pdb > onlygenistein.pdb\n",
        "4. acpype (https://www.bio2byte.be/acpype) of both monomers (calix and genistein) using pdb file to generate parameters\n",
        "5. download gromacs file from acpype\n",
        "6. combine two .gro monomer files(from acpype) files to make final dimer (complex.gro)\n",
        "7. Make one atomtype file, add all atom into one. caliix atom type into one file (genistein.itp). Genistein will be defined first in .top file.\n",
        "8. run prep* bash script (generate iitial solvated file) followed by energy minmization.\n",
        "9. gmx_mpi make_ndx -f 1-min.gro -o index.ndx\n",
        "10. gmx_mpi genrestr -f genonlycalix_GMX.gro -n index.ndx -o posre_onlycalix.itp -fc 1000 1000 1000\n",
        "11. gmx_mpi genrestr -f onlycalix_GMX.gro -n index.ndx -o posre_onlygenistein.itp -fc 1000 1000 1000\n",
        "12. define coupling groups and DPOSRES\n",
        "\n"
      ],
      "metadata": {
        "id": "vPPJqNiO5uR8"
      }
    }
  ]
}